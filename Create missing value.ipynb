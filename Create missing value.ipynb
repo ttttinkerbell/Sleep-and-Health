{
 "cells": [
  {
   "cell_type": "markdown",
   "id": "57e3b4d0-cfdd-49b2-a426-6c3cd88f033b",
   "metadata": {},
   "source": [
    "This is a script to simulate missing data.\n",
    "\n",
    "Since our datasets are too perfect, we create some missing data and generate new csv files.\n",
    "\n",
    "So we can simulate the real situations."
   ]
  },
  {
   "cell_type": "code",
   "execution_count": 8,
   "id": "e673b182-0fe4-4752-90e9-ed3883bc9c8e",
   "metadata": {},
   "outputs": [],
   "source": [
    "import pandas as pd\n",
    "\n",
    "# Define file paths\n",
    "file1 = 'Health_Sleep_Statistics.csv'\n",
    "file2 = 'ss.csv'\n",
    "\n",
    "# Load the datasets\n",
    "df1 = pd.read_csv(file1)\n",
    "df2 = pd.read_csv(file2)"
   ]
  },
  {
   "cell_type": "markdown",
   "id": "d5151aa4-4f27-4830-aecd-622b62a3ea4f",
   "metadata": {},
   "source": [
    "For the first data set, we generated 3% randomly missing data to simulate MCAR."
   ]
  },
  {
   "cell_type": "code",
   "execution_count": 21,
   "id": "22cdff55-0364-45e8-b6b5-06abdfa5a836",
   "metadata": {},
   "outputs": [],
   "source": [
    "import numpy as np\n",
    "\n",
    "def introduce_missing_values(df, missing_percent):\n",
    "    # Make a copy of the original dataframe to not modify the original\n",
    "    df_missing = df.copy()\n",
    "    \n",
    "    # Calculate the total number of values in the dataset\n",
    "    total_values = df_missing.size\n",
    "    \n",
    "    # Calculate the number of missing values to introduce\n",
    "    num_missing = int(missing_percent * total_values)\n",
    "    \n",
    "    # Randomly select indices to replace with NaN\n",
    "    for _ in range(num_missing):\n",
    "        i = np.random.randint(0, df_missing.shape[0])  # row index\n",
    "        j = np.random.randint(0, df_missing.shape[1])  # column index\n",
    "        df_missing.iat[i, j] = np.nan\n",
    "    \n",
    "    return df_missing\n",
    "\n",
    "# Apply the function to dataset\n",
    "df1_missing = introduce_missing_values(df1, missing_percent=0.03)\n",
    "\n",
    "df1_missing.describe()\n",
    "\n",
    "# Save to a new csv file.\n",
    "df1_missing.to_csv('dataset1_with_missing_values.csv', index=False)"
   ]
  },
  {
   "cell_type": "markdown",
   "id": "c19c91b7-00c9-459c-b761-ac4f63539c9c",
   "metadata": {},
   "source": [
    "For the second data set, we create missing values by this rule: any person who have age above 50, they have 90% chance of missing the daily steps.\n",
    "We simulated MNAR, since it is inconvenient for people to exercise as they get older."
   ]
  },
  {
   "cell_type": "code",
   "execution_count": 23,
   "id": "b5a725ce-3a47-42a5-8f7f-28bdc873204b",
   "metadata": {},
   "outputs": [],
   "source": [
    "def apply_age_based_missing_values(df, age_column, age_threshold, target_column, missing_probability):\n",
    "    df_missing = df.copy()\n",
    "    \n",
    "    # Apply condition for rows where age is greater than the threshold\n",
    "    for index, row in df_missing.iterrows():\n",
    "        if row[age_column] > age_threshold:\n",
    "            # Apply 90% chance of making the 'Daily Steps' column value NaN\n",
    "            if np.random.rand() < missing_probability:\n",
    "                df_missing.at[index, target_column] = np.nan\n",
    "    \n",
    "    return df_missing\n",
    "\n",
    "# Apply the function to dataset\n",
    "df2_missing = apply_age_based_missing_values(df2, age_column='Age', age_threshold=50, target_column='Daily Steps', missing_probability=0.9)\n",
    "\n",
    "df2_missing.describe()\n",
    "\n",
    "# Save to a new csv file.\n",
    "df2_missing.to_csv('dataset2_with_missing_values.csv', index=False)"
   ]
  },
  {
   "cell_type": "markdown",
   "id": "092f7534-9ebf-4502-9da4-eba4297ac0db",
   "metadata": {},
   "source": [
    "Now, we have two datasets containing missing values.\n",
    "\n",
    "Use these two datasets for subsequent analysis."
   ]
  },
  {
   "cell_type": "code",
   "execution_count": null,
   "id": "25e4ca5e-eb5c-4008-81dc-4b58a38f3b7c",
   "metadata": {},
   "outputs": [],
   "source": []
  }
 ],
 "metadata": {
  "kernelspec": {
   "display_name": "Python 3 (ipykernel)",
   "language": "python",
   "name": "python3"
  },
  "language_info": {
   "codemirror_mode": {
    "name": "ipython",
    "version": 3
   },
   "file_extension": ".py",
   "mimetype": "text/x-python",
   "name": "python",
   "nbconvert_exporter": "python",
   "pygments_lexer": "ipython3",
   "version": "3.12.4"
  }
 },
 "nbformat": 4,
 "nbformat_minor": 5
}
